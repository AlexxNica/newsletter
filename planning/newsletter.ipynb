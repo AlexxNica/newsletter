{
 "cells": [
  {
   "cell_type": "markdown",
   "metadata": {
    "name": "null",
    "tags": []
   },
   "source": [
    "# Jupyter Newsletter "
   ]
  },
  {
   "cell_type": "markdown",
   "metadata": {
    "name": "null",
    "tags": []
   },
   "source": [
    "## Goals\n",
    "1. To communicate information about the project on a biweekly to monthly timeframe\n",
    "2. To offer a place to showcase community members, projects, and applications\n",
    "3. To highlight and build awareness about upcoming JupyterDay/JupyterCon events"
   ]
  },
  {
   "cell_type": "markdown",
   "metadata": {
    "name": "null",
    "tags": []
   },
   "source": [
    "## Critical success factors\n",
    "\n",
    "#### People\n",
    "time and bandwidth to effectively implement and sustain\n",
    "#### Workflow\n",
    "gather content ideas, content creation, create combination of content, deploy content, archive content \n",
    "#### Team\n",
    "varied talents coming together to create and distribute the communication product\n",
    "#### Intervention Design \n",
    "- Design for Action\n",
    "[How to use design thinking to make great things actually happen](https://www.ideo.com/images/uploads/news/pdfs/DesignForAction.pdf)\n",
    "- Adopt principles\n",
    "![Image of conclusions](intervention-design.png)\n",
    "\n"
   ]
  },
  {
   "cell_type": "markdown",
   "metadata": {},
   "source": [
    "## Pilots\n",
    "\n",
    "A. Ghost\n",
    "\n",
    "B. Medium\n",
    "\n",
    "C. Notebook / Dashboard of notebook content?\n",
    "\n",
    "Learn from each pilot what works well and what needs improvement. Over time we will iterate to an effective solution."
   ]
  },
  {
   "cell_type": "markdown",
   "metadata": {},
   "source": [
    "### Helpful evaluation criteria during a pilot\n",
    "- Reader feedback\n",
    "- Workflow checklists\n",
    "- Team learning curve\n",
    "- Team sustainability of a process\n",
    "- ...\n",
    "- ...\n",
    "- ..."
   ]
  },
  {
   "cell_type": "markdown",
   "metadata": {},
   "source": [
    "## Moving from pilot to production\n",
    "\n",
    "A. When is the pilot phase completed?\n",
    "> - Once two newsletters are completed in the same manner without heroic efforts by team.\n",
    "  - Readers are positive about the resulting product.\n",
    "  \n",
    "B. Documentation of the workflow\n",
    "> - Checklist\n",
    "  - Ability to onboard new team members\n",
    "  \n"
   ]
  },
  {
   "cell_type": "code",
   "execution_count": null,
   "metadata": {
    "collapsed": true
   },
   "outputs": [],
   "source": []
  }
 ],
 "metadata": {
  "kernelspec": {
   "display_name": "Python 3",
   "language": "python",
   "name": "python3"
  },
  "language_info": {
   "codemirror_mode": {
    "name": "ipython",
    "version": 3
   },
   "file_extension": ".py",
   "mimetype": "text/x-python",
   "name": "python",
   "nbconvert_exporter": "python",
   "pygments_lexer": "ipython3",
   "version": "3.5.1"
  }
 },
 "nbformat": 4,
 "nbformat_minor": 1
}
